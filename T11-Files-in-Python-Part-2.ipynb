{
 "cells": [
  {
   "cell_type": "markdown",
   "metadata": {
    "deletable": false
   },
   "source": [
    "# **Tutorial 11: Working with Files (Part 02)** 👀"
   ]
  },
  {
   "cell_type": "markdown",
   "metadata": {},
   "source": [
    "<a id='t11toc'></a>\n",
    "#### Contents: ####\n",
    "- **[Parsing](#t11parsing)**\n",
    "    - [`strip()`](#t11strip)\n",
    "        - [Exercise 1](#t11ex1)\n",
    "    - [`split()`](#t11split)\n",
    "        - [Exercise 2](#t11ex2)\n",
    "- **[JSON](#t11json)**\n",
    "    - [Reading JSON from a String](#t11loads)\n",
    "    - [Reading a JSON File](#t11load)\n",
    "    - [Converting to a JSON String](#t11dumps)\n",
    "    - [Writing to a JSON File](#t11dump)\n",
    "- **[CSV](#t11csv)**\n",
    "    - [Reading CSV Files in Python](#t11readcsv)\n",
    "    - [Writing into CSV Files (Row by Row)](#t11writecsvrbr)\n",
    "    - [Writing into CSV Files (Multiple Rows)](#t11writecsvmultiple)\n",
    "    - [Writing into CSV Files (Custom Delimiter)](#t11delimiter)\n",
    "- [Exercise 3](#t11ex3)\n",
    "- [Exercises Solutions](#t11sol)"
   ]
  },
  {
   "cell_type": "markdown",
   "metadata": {
    "editable": false
   },
   "source": [
    "💡 <b>TIP</b><br>\n",
    "> <i>In Exercises, when time permits, try to write the codes yourself, and do not copy it from the other cells.</i>"
   ]
  },
  {
   "cell_type": "markdown",
   "metadata": {},
   "source": [
    "<a id='t11parsing'></a>\n",
    "## ▙▂ **🄿ARSING ▂▂**\n",
    "\n",
    "Parsing means splitting up a text into meaningful components (meaningful for a *given purpose*).  \n",
    "Python has some built-in methods that you can be used for some basic parsing tasks on strings. We will practise with few of them."
   ]
  },
  {
   "cell_type": "markdown",
   "metadata": {},
   "source": [
    "<a id='t11strip'></a>\n",
    "#### **▇▂  `strip()` ▂▂**"
   ]
  },
  {
   "cell_type": "markdown",
   "metadata": {
    "deletable": false
   },
   "source": [
    "The `strip()` method removes characters from both left and right sides of a string, based on the argument (a string specifying the set of characters to be removed).  \n",
    "\n",
    "The syntax of the `strip()` method is:  `string.strip([chars])`\n",
    "\n",
    "**`strip()` Parameters**  \n",
    "- `chars` (optional) - a string specifying the set of characters to be removed from the left and right sides of the string.\n",
    "    - If the chars argument is not provided, all **leading and trailing whitespaces** are removed from the string."
   ]
  },
  {
   "cell_type": "code",
   "execution_count": null,
   "metadata": {},
   "outputs": [],
   "source": [
    "Str = '  Analysis 3: Object Oriented Programming  '"
   ]
  },
  {
   "cell_type": "markdown",
   "metadata": {},
   "source": [
    "The code below removes all white spaces (blank) from the left and right side of the string:"
   ]
  },
  {
   "cell_type": "code",
   "execution_count": null,
   "metadata": {},
   "outputs": [],
   "source": [
    "CleanStr1 = Str.strip()"
   ]
  },
  {
   "cell_type": "code",
   "execution_count": null,
   "metadata": {},
   "outputs": [],
   "source": [
    "print(f'Original String is = \"{Str}\" --- (length={len(Str)})')\n",
    "print(f'Removing Leading and Trailing White spaces = \"{CleanStr1}\" --- (length={len(CleanStr1)})')"
   ]
  },
  {
   "cell_type": "markdown",
   "metadata": {},
   "source": [
    "The method can also be diectly applied to a string:"
   ]
  },
  {
   "cell_type": "code",
   "execution_count": null,
   "metadata": {},
   "outputs": [],
   "source": [
    "CleanStr2 = 'OOOOOOOOAnalysis 3: Object Oriented ProgrammingOOOOO'.strip('O')\n",
    "print(f'Removing O\\'s = \"{CleanStr2}\"')"
   ]
  },
  {
   "cell_type": "markdown",
   "metadata": {},
   "source": [
    "<br>⚠ <b>NOTE</b><br>\n",
    ">It removes only leading and trailing `'O'`s, but not those in between.<br>"
   ]
  },
  {
   "cell_type": "markdown",
   "metadata": {},
   "source": [
    "##### **Multiple Characters**\n",
    "\n",
    "The `chars` parameter is not a prefix or suffix; rather, all combinations of its values are stripped.  \n",
    "\n",
    "In below example, `strip()` would strip all the characters provided in the argument i.e. `'+'`, `'*'`."
   ]
  },
  {
   "cell_type": "code",
   "execution_count": null,
   "metadata": {},
   "outputs": [],
   "source": [
    "CleanStr3 = '+*++*++Analysis 3: Object Oriented Programming**++**'.strip('+*')\n",
    "print(f'Stripping + and * on both sides  = {CleanStr3}')"
   ]
  },
  {
   "cell_type": "markdown",
   "metadata": {},
   "source": [
    "##### **Only One Side**\n",
    "\n",
    "- `lstrip()` trims leading characters and return the trimmed string.\n",
    "- `rstrip()` strips any trailing white-spaces, tabs, and newlines, and returns the trimmed string.\n"
   ]
  },
  {
   "cell_type": "code",
   "execution_count": null,
   "metadata": {},
   "outputs": [],
   "source": [
    "CleanStr4 = '***********Analysis 3: Object Oriented Programming***********'.lstrip('*')\n",
    "print('Removing Left Side using lstrip() is = \"%s\"' %CleanStr4)"
   ]
  },
  {
   "cell_type": "markdown",
   "metadata": {},
   "source": [
    "<i>Try to do this first without checking the solution in the next cell. After typing your code, compare it with the solution. </i>"
   ]
  },
  {
   "cell_type": "code",
   "execution_count": null,
   "metadata": {},
   "outputs": [],
   "source": [
    "CleanStr5 = '***********Analysis 3: Object Oriented Programming***********'.rstrip('*')\n",
    "print('Removing Right Side using rstrip() is = \"%s\"' %CleanStr5)"
   ]
  },
  {
   "cell_type": "markdown",
   "metadata": {},
   "source": [
    "<br>[back to top ↥](#t11toc)"
   ]
  },
  {
   "cell_type": "markdown",
   "metadata": {},
   "source": [
    "<br><br><a id='t11ex1'></a>\n",
    "◾◾◾◾◾◾◾◾◾◾◾◾◾◾◾◾◾◾◾◾◾◾◾◾◾◾◾◾◾◾◾◾◾◾◾◾◾◾◾◾◾◾◾◾◾◾◾◾◾◾"
   ]
  },
  {
   "cell_type": "markdown",
   "metadata": {},
   "source": [
    "**✎ Exercise 𝟙**<br> <br> ▙ ⏰ ~ 2+2 min. ▟ <br>"
   ]
  },
  {
   "cell_type": "markdown",
   "metadata": {},
   "source": [
    "❶ We have a file `studentsgrades.txt` in the current folder which contains the students first name and last names and their grades for Analysis 2.\n",
    "\n",
    "the information are not properly formatted in the file and there are some extra characters on each row. (Open the file to see the records.) \n",
    "\n",
    "**CMI-Inf St. Num 1002121 Andrew Bren 8.4  \n",
    "CMI-Inf St. Num 1002121 Peter Cole 7.0  \n",
    "CMI-Inf St. Num 1002121 Chris Charles 9.1  \n",
    "CMI-Inf St. Num 1002121 Andy Frankline 6.9  \n",
    "CMI-Inf St. Num 1002121 Robert Ford 5.6  \n",
    "CMI-Inf St. Num 1002121 Charley Walton 7.7**\n",
    "\n",
    "Write a short piece of code to read the file and remove the extra leading characters and students numbers from each row, and Create a new file `studentsgrades-m.txt` containing the new records. The new file should be like:  \n",
    "\n",
    "**Andrew Bren 8.4  \n",
    "Peter Cole 7.0  \n",
    "Chris Charles 9.1  \n",
    "Andy Frankline 6.9  \n",
    "Robert Ford 5.6  \n",
    "Charley Walton 7.7**"
   ]
  },
  {
   "cell_type": "code",
   "execution_count": null,
   "metadata": {},
   "outputs": [],
   "source": [
    "# Exercise 1.1\n"
   ]
  },
  {
   "cell_type": "markdown",
   "metadata": {},
   "source": [
    "❷ Modify your code to work on the original file `studentsgrades.txt` and create another new file `studentsnames.txt` containing only the students names, without grades."
   ]
  },
  {
   "cell_type": "code",
   "execution_count": null,
   "metadata": {},
   "outputs": [],
   "source": [
    "# Exercise 1.2\n"
   ]
  },
  {
   "cell_type": "markdown",
   "metadata": {},
   "source": [
    "<br>[back to top ↥](#t11toc)"
   ]
  },
  {
   "cell_type": "markdown",
   "metadata": {},
   "source": [
    "<a id='t11split'></a>\n",
    "#### **▇▂  `split()` ▂▂**"
   ]
  },
  {
   "cell_type": "markdown",
   "metadata": {},
   "source": [
    "The `split()` method breaks up a string at the specified separator and returns a *list of strings*.  \n",
    "\n",
    "\n",
    "The syntax of the `split()` method is:  `str.split([separator [, maxsplit]])`\n",
    "\n",
    "\n",
    "\n",
    "**`split()` Parameters**  \n",
    "`split()` method takes a maximum of 2 parameters:\n",
    "- `separator` (optional)- It is a delimiter. The string splits at the specified separator.\n",
    "    - If the separator is not specified, any whitespace (space, newline etc.) string is a separator.\n",
    "- `maxsplit` (optional) - The maxsplit defines the maximum number of splits.\n",
    "    - The default value of maxsplit is `-1`, meaning, no limit on the number of splits.\n"
   ]
  },
  {
   "cell_type": "code",
   "execution_count": null,
   "metadata": {},
   "outputs": [],
   "source": [
    "text = 'Never regret anything that made you smile'"
   ]
  },
  {
   "cell_type": "code",
   "execution_count": null,
   "metadata": {},
   "outputs": [],
   "source": [
    "print(text.split())"
   ]
  },
  {
   "cell_type": "markdown",
   "metadata": {},
   "source": [
    "##### **with `seperator`**"
   ]
  },
  {
   "cell_type": "code",
   "execution_count": null,
   "metadata": {},
   "outputs": [],
   "source": [
    "grocery = 'Milk, Chicken, Bread, Butter'"
   ]
  },
  {
   "cell_type": "code",
   "execution_count": null,
   "metadata": {},
   "outputs": [],
   "source": [
    "print(grocery.split(', '))"
   ]
  },
  {
   "cell_type": "markdown",
   "metadata": {},
   "source": [
    "Try the following code:"
   ]
  },
  {
   "cell_type": "code",
   "execution_count": null,
   "metadata": {},
   "outputs": [],
   "source": [
    "print(grocery.split(':'))"
   ]
  },
  {
   "cell_type": "markdown",
   "metadata": {},
   "source": [
    "🔴 How many elements are in the python list above? Why? Discuss it."
   ]
  },
  {
   "cell_type": "markdown",
   "metadata": {},
   "source": [
    "##### **with `maxsplit`**"
   ]
  },
  {
   "cell_type": "code",
   "execution_count": null,
   "metadata": {},
   "outputs": [],
   "source": [
    "print(grocery.split(', ', 1))"
   ]
  },
  {
   "cell_type": "code",
   "execution_count": null,
   "metadata": {},
   "outputs": [],
   "source": [
    "print(grocery.split(', ', 2))"
   ]
  },
  {
   "cell_type": "code",
   "execution_count": null,
   "metadata": {},
   "outputs": [],
   "source": [
    "print(grocery.split(', ', 5))"
   ]
  },
  {
   "cell_type": "markdown",
   "metadata": {},
   "source": [
    "<br>⚠ <b>NOTE</b><br>\n",
    ">If `maxsplit` is specified, the list will have at most `maxsplit+1` items.<br>"
   ]
  },
  {
   "cell_type": "markdown",
   "metadata": {},
   "source": [
    "<br>[back to top ↥](#t11toc)"
   ]
  },
  {
   "cell_type": "markdown",
   "metadata": {},
   "source": [
    "<br><br><a id='t11ex2'></a>\n",
    "◾◾◾◾◾◾◾◾◾◾◾◾◾◾◾◾◾◾◾◾◾◾◾◾◾◾◾◾◾◾◾◾◾◾◾◾◾◾◾◾◾◾◾◾◾◾◾◾◾◾"
   ]
  },
  {
   "cell_type": "markdown",
   "metadata": {},
   "source": [
    "**✎ Exercise 𝟚**<br> <br> ▙ ⏰ ~ 3+3 min. ▟ <br>"
   ]
  },
  {
   "cell_type": "markdown",
   "metadata": {},
   "source": [
    "❶ We want to further process `studentsgrades.txt` file discussed in Exercise 1. Now, we would like to make a **list** of students. Each item in the list must be a student. A student should be created as an object with three attributes: `first name`, `last name`, and `grade`."
   ]
  },
  {
   "cell_type": "code",
   "execution_count": null,
   "metadata": {},
   "outputs": [],
   "source": [
    "# Exercise 2.1\n"
   ]
  },
  {
   "cell_type": "markdown",
   "metadata": {},
   "source": [
    "❷ Define a class to represent a group of students. Create an object to contain the students in our list, and add a method to the class for a simple linear search based on the last name of a student.  "
   ]
  },
  {
   "cell_type": "code",
   "execution_count": null,
   "metadata": {},
   "outputs": [],
   "source": [
    "# Exercise 2.2\n"
   ]
  },
  {
   "cell_type": "markdown",
   "metadata": {},
   "source": [
    "<br>[back to top ↥](#t11toc)"
   ]
  },
  {
   "cell_type": "markdown",
   "metadata": {},
   "source": [
    "<a id='t11json'></a>\n",
    "## ▙▂ **🄹SON ▂▂**"
   ]
  },
  {
   "cell_type": "markdown",
   "metadata": {},
   "source": [
    "JSON is a syntax for storing and exchanging data.\n",
    "- JSON is text, written with JavaScript object notation.\n",
    "- JSON is language independent.\n",
    "- JSON uses JavaScript syntax, but the JSON format is text only.\n",
    "- Text can be read and used as a data format by any programming language."
   ]
  },
  {
   "cell_type": "markdown",
   "metadata": {},
   "source": [
    "<a id='t11loads'></a>\n",
    "#### **▇▂  Reading JSON from a String ▂▂**"
   ]
  },
  {
   "cell_type": "markdown",
   "metadata": {},
   "source": [
    "`json.loads()` reads JSON from a string and converts it to a Python dictionary."
   ]
  },
  {
   "cell_type": "code",
   "execution_count": null,
   "metadata": {},
   "outputs": [],
   "source": [
    "import json\n",
    "\n",
    "book = \"\"\" \n",
    "    {\n",
    "    \"author\": \"Chinua Achebe\",\n",
    "    \"editor\": null,\n",
    "    \"country\": \"Nigeria\",\n",
    "    \"imageLink\": \"images/things-fall-apart.jpg\",\n",
    "    \"language\": \"English\",\n",
    "    \"link\": \"https://en.wikipedia.org/wiki/Things_Fall_Apart\",\n",
    "    \"pages\": 209,\n",
    "    \"title\": \"Things Fall Apart\",\n",
    "    \"year\": 1958,\n",
    "    \"available\": true\n",
    "    }\n",
    "    \"\"\"\n",
    "\n",
    "book_dict = json.loads(book)\n",
    "\n",
    "print(book_dict)\n",
    "print(\"\\n\")\n",
    "print(\"The title of the book is:\", book_dict['title'])\n",
    "print(f'book_json is: {type(book_dict)}')"
   ]
  },
  {
   "cell_type": "markdown",
   "metadata": {},
   "source": [
    "<br>[back to top ↥](#t11toc)"
   ]
  },
  {
   "cell_type": "markdown",
   "metadata": {},
   "source": [
    "<a id='t11load'></a>\n",
    "#### **▇▂  Reading a JSON File ▂▂**"
   ]
  },
  {
   "cell_type": "markdown",
   "metadata": {},
   "source": [
    "Now let's load a JSON file into a JSON object in Python. For this, we use the file `book.json`, located in the current directory."
   ]
  },
  {
   "cell_type": "markdown",
   "metadata": {},
   "source": [
    "First, let's take a look into the file contents."
   ]
  },
  {
   "cell_type": "code",
   "execution_count": null,
   "metadata": {},
   "outputs": [],
   "source": [
    "f = open(\"book.json\")\n",
    "text = f.read()\n",
    "f.close()\n",
    "print(f\"The full text in the file is:\\n\\n{text}\")"
   ]
  },
  {
   "cell_type": "markdown",
   "metadata": {},
   "source": [
    "you could also open the `book.json` in the Jupyter or a text editor."
   ]
  },
  {
   "cell_type": "markdown",
   "metadata": {},
   "source": [
    "The `json.load()` method reads a file containing JSON object:"
   ]
  },
  {
   "cell_type": "code",
   "execution_count": null,
   "metadata": {},
   "outputs": [],
   "source": [
    "import json\n",
    "\n",
    "with open('book.json') as f:\n",
    "  data = json.load(f)\n",
    "\n",
    "print(data)\n",
    "print('\\n')\n",
    "print(type(data))"
   ]
  },
  {
   "cell_type": "markdown",
   "metadata": {},
   "source": [
    "<br>⚠ <b>NOTE</b><br>\n",
    ">Note the difference between JSON object and Python object.<br>"
   ]
  },
  {
   "cell_type": "markdown",
   "metadata": {},
   "source": [
    "<br>[back to top ↥](#t11toc)"
   ]
  },
  {
   "cell_type": "markdown",
   "metadata": {},
   "source": [
    "<a id='t11dumps'></a>\n",
    "#### **▇▂  Converting to a JSON String ▂▂**"
   ]
  },
  {
   "cell_type": "markdown",
   "metadata": {},
   "source": [
    "`json.dumps()` converts a python dictionary to a JSON string."
   ]
  },
  {
   "cell_type": "code",
   "execution_count": null,
   "metadata": {},
   "outputs": [],
   "source": [
    "import json\n",
    "\n",
    "book = {\n",
    "    \"author\": \"Chinua Achebe\",\n",
    "    \"editor\": None,\n",
    "    \"country\": \"Nigeria\",\n",
    "    \"imageLink\": \"images/things-fall-apart.jpg\",\n",
    "    \"language\": \"English\",\n",
    "    \"link\": \"https://en.wikipedia.org/wiki/Things_Fall_Apart\",\n",
    "    \"pages\": 209,\n",
    "    \"title\": \"Things Fall Apart\",\n",
    "    \"year\": 1958,\n",
    "    \"available\": True\n",
    "    }\n",
    "    \n",
    "book_json = json.dumps(book)\n",
    "print(book_json)\n",
    "print('\\n')\n",
    "print(f'book is: {type(book)}')\n",
    "print(f'book_json is: {type(book_json)}')"
   ]
  },
  {
   "cell_type": "markdown",
   "metadata": {},
   "source": [
    "<br>[back to top ↥](#t11toc)"
   ]
  },
  {
   "cell_type": "markdown",
   "metadata": {},
   "source": [
    "<a id='t11dump'></a>\n",
    "#### **▇▂  Writing to a JSON File ▂▂**"
   ]
  },
  {
   "cell_type": "markdown",
   "metadata": {},
   "source": [
    "`json.dump()` converts and writes a dictionary to a JSON file."
   ]
  },
  {
   "cell_type": "code",
   "execution_count": null,
   "metadata": {},
   "outputs": [],
   "source": [
    "import json\n",
    "\n",
    "book_dict = {\n",
    "    \"author\": \"Chinua Achebe\",\n",
    "    \"editor\": None,\n",
    "    \"country\": \"Nigeria\",\n",
    "    \"imageLink\": \"images/things-fall-apart.jpg\",\n",
    "    \"language\": \"English\",\n",
    "    \"link\": \"https://en.wikipedia.org/wiki/Things_Fall_Apart\",\n",
    "    \"pages\": 209,\n",
    "    \"title\": \"Things Fall Apart\",\n",
    "    \"year\": 1958,\n",
    "    \"available\": True\n",
    "    }\n",
    "\n",
    "with open('book-new.json', 'w') as json_file:\n",
    "  json.dump(book_dict, json_file)"
   ]
  },
  {
   "cell_type": "markdown",
   "metadata": {},
   "source": [
    "Now let's take a look into the contents of the file we have just written:"
   ]
  },
  {
   "cell_type": "code",
   "execution_count": null,
   "metadata": {},
   "outputs": [],
   "source": [
    "f = open(\"book-new.json\")\n",
    "text = f.read()\n",
    "f.close()\n",
    "print(f\"The full text in the file is:\\n\\n{text}\")"
   ]
  },
  {
   "cell_type": "markdown",
   "metadata": {},
   "source": [
    "<br>[back to top ↥](#t11toc)"
   ]
  },
  {
   "cell_type": "markdown",
   "metadata": {},
   "source": [
    "<a id='t11csv'></a>\n",
    "## ▙▂ **🄲SV ▂▂**"
   ]
  },
  {
   "cell_type": "markdown",
   "metadata": {},
   "source": [
    "While we could use the built-in `open()` function to work with `CSV` files in Python, there is a dedicated `csv` module that makes working with `CSV` files much easier.  \n",
    "\n",
    "Before we can use the methods to the `csv` module, we need to import the module first, using:"
   ]
  },
  {
   "cell_type": "code",
   "execution_count": null,
   "metadata": {},
   "outputs": [],
   "source": [
    "import csv"
   ]
  },
  {
   "cell_type": "markdown",
   "metadata": {},
   "source": [
    "<a id='t11readcsv'></a>\n",
    "#### **▇▂  Reading CSV Files in Python ▂▂**"
   ]
  },
  {
   "cell_type": "markdown",
   "metadata": {},
   "source": [
    "To read a `CSV` file in Python, we can use the `csv.reader()` function.  \n",
    "\n",
    "The `csv.reader()` returns an iterable `reader` object.\n",
    "\n",
    "The `reader` object is then iterated using a for loop to print the contents of each row."
   ]
  },
  {
   "cell_type": "markdown",
   "metadata": {},
   "source": [
    "##### **Using comma (`,`) as delimiter**\n",
    "\n",
    "Comma is the default delimiter for `csv.reader()`."
   ]
  },
  {
   "cell_type": "code",
   "execution_count": null,
   "metadata": {},
   "outputs": [],
   "source": [
    "import csv\n",
    "with open('grades.csv', 'r') as file:\n",
    "    reader = csv.reader(file)\n",
    "    for row in reader:\n",
    "        print(row)"
   ]
  },
  {
   "cell_type": "markdown",
   "metadata": {},
   "source": [
    "##### **Using tab (`\\t`) as delimiter**"
   ]
  },
  {
   "cell_type": "code",
   "execution_count": null,
   "metadata": {},
   "outputs": [],
   "source": [
    "import csv\n",
    "with open('gradesTab.csv', 'r',) as file:\n",
    "    reader = csv.reader(file, delimiter = '\\t')\n",
    "    for row in reader:\n",
    "        print(row)"
   ]
  },
  {
   "cell_type": "markdown",
   "metadata": {},
   "source": [
    "<br>[back to top ↥](#t11toc)"
   ]
  },
  {
   "cell_type": "markdown",
   "metadata": {},
   "source": [
    "<a id='t11writecsvrbr'></a>\n",
    "#### **▇▂  Writing into CSV Files (Row by Row) ▂▂**"
   ]
  },
  {
   "cell_type": "markdown",
   "metadata": {},
   "source": [
    "To write to a CSV file in Python, we can use the `csv.writer()` function.  \n",
    "\n",
    "The `csv.writer()` function returns a `writer` object that converts the user's data into a delimited string. This string can later be used to write into `CSV` files using the `writerow()` function. \n",
    "\n",
    "`csv.writer` class provides two methods for writing to `CSV`. They are `writerow()` and `writerows()`:\n",
    "- `writerow()`: This method writes a single row at a time. Fields row can be written using this method.\n",
    "- `writerows()`: This method is used to write multiple rows at a time. This can be used to write rows list."
   ]
  },
  {
   "cell_type": "code",
   "execution_count": null,
   "metadata": {},
   "outputs": [],
   "source": [
    "import csv\n",
    "with open('gradesW1.csv', 'w', newline='') as file:\n",
    "    writer = csv.writer(file)\n",
    "    \n",
    "    writer.writerow([\"Lastname\",\"Firstname\",\"SSN\",\"Test1\",\"Test2\",\"Test3\",\"Test4\",\"Final\",\"Grade\"])\n",
    "    writer.writerow([\"George\",\"Boy\",\"345-67-3901\",40.0,1.0,11.0,-1.0,4.0,\"B\"])\n",
    "    writer.writerow([\"Heffalump\",\"Harvey\",\"632-79-9439\",30.0,1.0,20.0,30.0,40.0,\"C\"])"
   ]
  },
  {
   "cell_type": "markdown",
   "metadata": {},
   "source": [
    "Now let's take a look into the contents of the file we have just written: "
   ]
  },
  {
   "cell_type": "code",
   "execution_count": null,
   "metadata": {},
   "outputs": [],
   "source": [
    "f = open(\"gradesW1.csv\")\n",
    "text = f.read()\n",
    "f.close()\n",
    "print(f\"The full text in the file is:\\n\\n{text}\")"
   ]
  },
  {
   "cell_type": "markdown",
   "metadata": {},
   "source": [
    "<br>[back to top ↥](#t11toc)"
   ]
  },
  {
   "cell_type": "markdown",
   "metadata": {},
   "source": [
    "<a id='t11writecsvmultiple'></a>\n",
    "#### **▇▂  Writing into CSV Files (Multiple Rows) ▂▂**"
   ]
  },
  {
   "cell_type": "markdown",
   "metadata": {},
   "source": [
    "If we need to write the contents of the 2-dimensional list to a `CSV file`, here's how we can do it:"
   ]
  },
  {
   "cell_type": "code",
   "execution_count": null,
   "metadata": {},
   "outputs": [],
   "source": [
    "import csv\n",
    "csv_rowlist = [ [\"Lastname\",\"Firstname\",\"SSN\",\"Test1\",\"Test2\",\"Test3\",\"Test4\",\"Final\",\"Grade\"],\n",
    "                [\"Dandy\",\"Jim\",\"087-75-4321\",47.0,1.0,23.0,36.0,45.0,\"C+\"],\n",
    "                [\"Elephant\",\"Ima\",\"456-71-9012\",45.0,1.0,78.0,88.0,77.0,\"B-\"],\n",
    "                [\"Franklin\",\"Benny\",\"234-56-2890\",50.0,1.0,90.0,80.0,90.0,\"B-\"]]\n",
    "\n",
    "with open('gradesW2.csv', 'w', newline='') as file:\n",
    "    writer = csv.writer(file)\n",
    "    writer.writerows(csv_rowlist)"
   ]
  },
  {
   "cell_type": "markdown",
   "metadata": {},
   "source": [
    "Now let's take a look into the contents of the file we have just written:"
   ]
  },
  {
   "cell_type": "code",
   "execution_count": null,
   "metadata": {},
   "outputs": [],
   "source": [
    "f = open(\"gradesW2.csv\")\n",
    "text = f.read()\n",
    "f.close()\n",
    "print(f\"The full text in the file is:\\n\\n{text}\")"
   ]
  },
  {
   "cell_type": "markdown",
   "metadata": {},
   "source": [
    "<br>[back to top ↥](#t11toc)"
   ]
  },
  {
   "cell_type": "markdown",
   "metadata": {},
   "source": [
    "<a id='t11delimiter'></a>\n",
    "#### **▇▂  Writing into CSV Files (Custom Delimiter) ▂▂**"
   ]
  },
  {
   "cell_type": "markdown",
   "metadata": {},
   "source": [
    "As mentioned before, by default, a comma `,` is used as a delimiter in a `CSV` file."
   ]
  },
  {
   "cell_type": "markdown",
   "metadata": {},
   "source": [
    "However, we can pass a different delimiter parameter as argument to the `csv.writer()` function:"
   ]
  },
  {
   "cell_type": "code",
   "execution_count": null,
   "metadata": {},
   "outputs": [],
   "source": [
    "import csv\n",
    "csv_rowlist = [ [\"Lastname\",\"Firstname\",\"SSN\",\"Test1\",\"Test2\",\"Test3\",\"Test4\",\"Final\",\"Grade\"],\n",
    "                [\"Dandy\",\"Jim\",\"087-75-4321\",47.0,1.0,23.0,36.0,45.0,\"C+\"],\n",
    "                [\"Elephant\",\"Ima\",\"456-71-9012\",45.0,1.0,78.0,88.0,77.0,\"B-\"],\n",
    "                [\"Franklin\",\"Benny\",\"234-56-2890\",50.0,1.0,90.0,80.0,90.0,\"B-\"]]\n",
    "\n",
    "with open('gradesW3.csv', 'w', newline='') as file:\n",
    "    writer = csv.writer(file, delimiter='|')\n",
    "    writer.writerows(csv_rowlist)"
   ]
  },
  {
   "cell_type": "markdown",
   "metadata": {},
   "source": [
    "Now let's take a look into the contents of the file we have just written:"
   ]
  },
  {
   "cell_type": "code",
   "execution_count": null,
   "metadata": {},
   "outputs": [],
   "source": [
    "f = open(\"gradesW3.csv\")\n",
    "text = f.read()\n",
    "f.close()\n",
    "print(f\"The full text in the file is:\\n\\n{text}\")"
   ]
  },
  {
   "cell_type": "markdown",
   "metadata": {},
   "source": [
    "<br>[back to top ↥](#t11toc)"
   ]
  },
  {
   "cell_type": "markdown",
   "metadata": {},
   "source": [
    "<br><br><a id='t11ex3'></a>\n",
    "◾◾◾◾◾◾◾◾◾◾◾◾◾◾◾◾◾◾◾◾◾◾◾◾◾◾◾◾◾◾◾◾◾◾◾◾◾◾◾◾◾◾◾◾◾◾◾◾◾◾"
   ]
  },
  {
   "cell_type": "markdown",
   "metadata": {},
   "source": [
    "**✎ Exercise 𝟛**<br> <br> ▙ ⏰ ~ 3+3 min. ▟ <br>"
   ]
  },
  {
   "cell_type": "markdown",
   "metadata": {},
   "source": [
    "❶ Write a code to write the result of the Exercise 2.1 into a JSON file. "
   ]
  },
  {
   "cell_type": "code",
   "execution_count": null,
   "metadata": {},
   "outputs": [],
   "source": [
    "# Exercise 3.1\n"
   ]
  },
  {
   "cell_type": "markdown",
   "metadata": {},
   "source": [
    "❷ Write a code to write the result of the Exercise 2.1 into a CSV file."
   ]
  },
  {
   "cell_type": "code",
   "execution_count": null,
   "metadata": {},
   "outputs": [],
   "source": [
    "# Exercise 3.2\n"
   ]
  },
  {
   "cell_type": "markdown",
   "metadata": {},
   "source": [
    "<br>[back to top ↥](#t11toc)"
   ]
  },
  {
   "cell_type": "markdown",
   "metadata": {},
   "source": [
    "<br><br><a id='t11sol'></a>\n",
    "◼◼◼◼◼◼◼◼◼◼◼◼◼◼◼◼◼◼◼◼◼◼◼◼◼◼◼◼◼◼◼◼◼◼◼◼◼◼◼◼◼◼◼◼◼◼◼◼◼◼<br>\n",
    "◼◼◼◼◼◼◼◼◼◼◼◼◼◼◼◼◼◼◼◼◼◼◼◼◼◼◼◼◼◼◼◼◼◼◼◼◼◼◼◼◼◼◼◼◼◼◼◼◼◼"
   ]
  },
  {
   "cell_type": "markdown",
   "metadata": {
    "editable": false
   },
   "source": [
    "#### 🔑 **Exercises Solutions** ####"
   ]
  },
  {
   "cell_type": "markdown",
   "metadata": {},
   "source": [
    "**Exercise 1.1:**"
   ]
  },
  {
   "cell_type": "code",
   "execution_count": null,
   "metadata": {},
   "outputs": [],
   "source": [
    "with open(\"studentsgrades.txt\") as f:\n",
    "    t = f.readlines()\n",
    "\n",
    "t = [student.lstrip('CMI-InfSt.Num ') for student in t]\n",
    "t = [student.lstrip(' 0123456789') for student in t]\n",
    "\n",
    "\n",
    "with open(\"studentsgrades-m.txt\", \"w\") as f:\n",
    "    f.writelines(t)"
   ]
  },
  {
   "cell_type": "markdown",
   "metadata": {},
   "source": [
    "**Exercise 1.2:**"
   ]
  },
  {
   "cell_type": "code",
   "execution_count": null,
   "metadata": {},
   "outputs": [],
   "source": [
    "with open(\"studentsgrades.txt\") as f:\n",
    "    t = f.readlines()\n",
    "\n",
    "t = [student.lstrip('CMI-InfSt.Num ') for student in t]\n",
    "t = [student.strip(' .0123456789\\n') + '\\n' for student in t]\n",
    "\n",
    "\n",
    "with open(\"studentsnames.txt\", \"w\") as f:\n",
    "    f.writelines(t)"
   ]
  },
  {
   "cell_type": "markdown",
   "metadata": {},
   "source": [
    "<br>[back to Exercise 1 ↥](#t11ex1)"
   ]
  },
  {
   "cell_type": "markdown",
   "metadata": {},
   "source": [
    "<br>[back to top ↥](#t11toc)"
   ]
  },
  {
   "cell_type": "markdown",
   "metadata": {},
   "source": [
    "**Exercise 2.1:**"
   ]
  },
  {
   "cell_type": "code",
   "execution_count": null,
   "metadata": {},
   "outputs": [],
   "source": [
    "class student:\n",
    "    \n",
    "    def __init__(self, fn, ln, gr):\n",
    "        self.firstName = fn\n",
    "        self.lastName = ln\n",
    "        self.grade = gr\n",
    "\n",
    "    def __str__(self):\n",
    "        return f'{self.firstName} {self.lastName} ({self.grade})'\n",
    "\n",
    "    def __repr__(self):\n",
    "        return f'{self.__class__.__name__}({self.firstName}, {self.lastName}, {self.grade})'\n",
    "\n",
    "\n",
    "with open(\"studentsgrades.txt\") as f:\n",
    "    t = f.readlines()\n",
    "\n",
    "t = [st.lstrip('CMI-InfSt.Num ') for st in t]\n",
    "t = [st.lstrip(' 0123456789') for st in t]\n",
    "t = [st.rstrip('\\n') for st in t]\n",
    "\n",
    "t = [st.split(' ') for st in t]\n",
    "\n",
    "studentsList= [student(st[0],st[1],st[2]) for st in t]\n",
    "\n",
    "for st in studentsList:\n",
    "    print(st)"
   ]
  },
  {
   "cell_type": "markdown",
   "metadata": {},
   "source": [
    "**Exercise 2.2:**"
   ]
  },
  {
   "cell_type": "code",
   "execution_count": null,
   "metadata": {},
   "outputs": [],
   "source": [
    "class student:\n",
    "    def __init__(self, fn, ln, gr):\n",
    "        self.firstName = fn\n",
    "        self.lastName = ln\n",
    "        self.grade = gr\n",
    "\n",
    "    def __str__(self):\n",
    "        return f'{self.firstName} {self.lastName} ({self.grade})'\n",
    "\n",
    "    def __repr__(self):\n",
    "        return f'{self.__class__.__name__}({self.firstName}, {self.lastName}, {self.grade})'\n",
    "\n",
    "class group:\n",
    "    def __init__(self, sl):\n",
    "        self.studentsList = sl\n",
    "\n",
    "    def search(self, key_lastname):\n",
    "        for st in self.studentsList:\n",
    "            if st.lastName == key_lastname:\n",
    "                return st\n",
    "        return None\n",
    "\n",
    "with open(\"studentsgrades.txt\") as f:\n",
    "    t = f.readlines()\n",
    "\n",
    "t = [st.lstrip('CMI-InfSt.Num ') for st in t]\n",
    "t = [st.lstrip(' 0123456789') for st in t]\n",
    "t = [st.rstrip('\\n') for st in t]\n",
    "\n",
    "t = [st.split(' ') for st in t]\n",
    "\n",
    "studentsList= [student(st[0],st[1],st[2]) for st in t]\n",
    "\n",
    "analysis2_cmiinf1M = group(studentsList)\n",
    "\n",
    "print(analysis2_cmiinf1M.search('Charles'))\n",
    "print(analysis2_cmiinf1M.search('Andy'))"
   ]
  },
  {
   "cell_type": "markdown",
   "metadata": {},
   "source": [
    "<br>[back to Exercise 2 ↥](#t11ex2)"
   ]
  },
  {
   "cell_type": "markdown",
   "metadata": {},
   "source": [
    "<br>[back to top ↥](#t11toc)"
   ]
  },
  {
   "cell_type": "markdown",
   "metadata": {},
   "source": [
    "**Exercise 3.1:**"
   ]
  },
  {
   "cell_type": "code",
   "execution_count": null,
   "metadata": {},
   "outputs": [],
   "source": [
    "import json\n",
    "\n",
    "class student:\n",
    "    \n",
    "    def __init__(self, fn, ln, gr):\n",
    "        self.firstName = fn\n",
    "        self.lastName = ln\n",
    "        self.grade = gr\n",
    "\n",
    "    def __str__(self):\n",
    "        return f'{self.firstName} {self.lastName} ({self.grade})'\n",
    "\n",
    "    def __repr__(self):\n",
    "        return f'{self.__class__.__name__}({self.firstName}, {self.lastName}, {self.grade})'\n",
    "\n",
    "\n",
    "with open(\"studentsgrades.txt\") as f:\n",
    "    t = f.readlines()\n",
    "\n",
    "t = [st.lstrip('CMI-InfSt.Num ') for st in t]\n",
    "t = [st.lstrip(' 0123456789') for st in t]\n",
    "t = [st.rstrip('\\n') for st in t]\n",
    "\n",
    "t = [st.split(' ') for st in t]\n",
    "\n",
    "studentsList= [student(st[0], st[1], st[2]) for st in t]\n",
    "\n",
    "studentsDict = []\n",
    "\n",
    "for st in studentsList:\n",
    "    dictItem ={\"First Name\": st.firstName, \"Last Name\": st.lastName, \"Grade\": st.grade}\n",
    "    studentsDict.append(dictItem)\n",
    "\n",
    "with open('students-grades.json', 'w') as f:\n",
    "    json.dump(studentsDict , f, indent = 1)"
   ]
  },
  {
   "cell_type": "markdown",
   "metadata": {},
   "source": [
    "**Exercise 3.2:**"
   ]
  },
  {
   "cell_type": "code",
   "execution_count": null,
   "metadata": {},
   "outputs": [],
   "source": [
    "import csv\n",
    "\n",
    "class student:\n",
    "    \n",
    "    def __init__(self, fn, ln, gr):\n",
    "        self.firstName = fn\n",
    "        self.lastName = ln\n",
    "        self.grade = gr\n",
    "\n",
    "    def __str__(self):\n",
    "        return f'{self.firstName} {self.lastName} ({self.grade})'\n",
    "\n",
    "    def __repr__(self):\n",
    "        return f'{self.__class__.__name__}({self.firstName}, {self.lastName}, {self.grade})'\n",
    "\n",
    "\n",
    "with open(\"studentsgrades.txt\") as f:\n",
    "    t = f.readlines()\n",
    "\n",
    "t = [st.lstrip('CMI-InfSt.Num ') for st in t]\n",
    "t = [st.lstrip(' 0123456789') for st in t]\n",
    "t = [st.rstrip('\\n') for st in t]\n",
    "\n",
    "t = [st.split(' ') for st in t]\n",
    "\n",
    "studentsList= [student(st[0], st[1], st[2]) for st in t]\n",
    "\n",
    "header = [\"FName\", \"LName\", \"Grade\"] \n",
    "rows = [header]\n",
    "for st in studentsList:\n",
    "    new_row =[st.firstName, st.lastName, st.grade]\n",
    "    rows.append(new_row)\n",
    "\n",
    "with open('students-grades.csv', 'w', newline='') as f:\n",
    "    writer = csv.writer(f, delimiter='\\t')\n",
    "    writer.writerows(rows)  "
   ]
  },
  {
   "cell_type": "markdown",
   "metadata": {},
   "source": [
    "<br>[back to Exercise 3 ↥](#t11ex3)"
   ]
  },
  {
   "cell_type": "markdown",
   "metadata": {},
   "source": [
    "<br>[back to top ↥](#t11toc)"
   ]
  }
 ],
 "metadata": {
  "celltoolbar": "Edit Metadata",
  "kernelspec": {
   "display_name": "Python 3",
   "language": "python",
   "name": "python3"
  },
  "language_info": {
   "codemirror_mode": {
    "name": "ipython",
    "version": 3
   },
   "file_extension": ".py",
   "mimetype": "text/x-python",
   "name": "python",
   "nbconvert_exporter": "python",
   "pygments_lexer": "ipython3",
   "version": "3.7.1"
  }
 },
 "nbformat": 4,
 "nbformat_minor": 4
}
